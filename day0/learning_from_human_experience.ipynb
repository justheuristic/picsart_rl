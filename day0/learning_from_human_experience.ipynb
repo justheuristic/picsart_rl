{
 "cells": [
  {
   "cell_type": "markdown",
   "metadata": {},
   "source": [
    "# Learning from human experience.\n",
    "\n",
    "In this task we'll use recorded sessions from a reasonably efficient agent to train our agent with supervised learning."
   ]
  },
  {
   "cell_type": "code",
   "execution_count": 2,
   "metadata": {
    "collapsed": false
   },
   "outputs": [
    {
     "name": "stdout",
     "output_type": "stream",
     "text": [
      "Starting virtual X frame buffer: Xvfb.\n",
      "env: DISPLAY=:1\n"
     ]
    }
   ],
   "source": [
    "#run this if you're on a server\n",
    "!bash ../xvfb start\n",
    "%env DISPLAY=:1"
   ]
  },
  {
   "cell_type": "code",
   "execution_count": 3,
   "metadata": {
    "collapsed": true
   },
   "outputs": [],
   "source": [
    "import gym, gym.wrappers\n",
    "gym.logger.level=0 #gym.youre(\"drunk\").shut_up()\n",
    "import numpy as np\n",
    "ENV_NAME = \"LunarLander-v2\"\n",
    "\n",
    "#Create environment\n",
    "env = gym.make(ENV_NAME)\n",
    "n_actions = env.action_space.n\n"
   ]
  },
  {
   "cell_type": "code",
   "execution_count": 21,
   "metadata": {
    "collapsed": false
   },
   "outputs": [],
   "source": [
    "#load agent's dataset\n",
    "import pandas as pd\n",
    "df = pd.read_csv(\"lunarlander_data.csv\").iloc[:,1:]"
   ]
  },
  {
   "cell_type": "code",
   "execution_count": null,
   "metadata": {
    "collapsed": true
   },
   "outputs": [],
   "source": [
    "df[:5]"
   ]
  },
  {
   "cell_type": "code",
   "execution_count": 24,
   "metadata": {
    "collapsed": false
   },
   "outputs": [],
   "source": [
    "#Create agent\n",
    "from sklearn.neural_network import MLPClassifier\n",
    "\n",
    "agent = <build neural network>\n",
    "\n",
    "<train neural network to predict probability of action given states>"
   ]
  },
  {
   "cell_type": "markdown",
   "metadata": {},
   "source": [
    "### Try it out!"
   ]
  },
  {
   "cell_type": "code",
   "execution_count": 25,
   "metadata": {
    "collapsed": false
   },
   "outputs": [],
   "source": [
    "from itertools import count\n",
    "def generate_session(t_max=10**3):\n",
    "    \"\"\"\n",
    "    Just ask agent to predict action and see how env reacts - repeat until exhaustion.\n",
    "    :param t_max: after this many steps the session is forcibly stopped. MAKE SURE IT'S ENOUGH!\"\"\"\n",
    "    total_reward = 0\n",
    "    \n",
    "    s = env.reset()    \n",
    "    for t in count():\n",
    "        \n",
    "        action_probs = agent.predict_proba([s])[0]\n",
    "        \n",
    "        a = <pick action with given probs>\n",
    "        \n",
    "        s,r,done,_ = env.<apply action>\n",
    "        total_reward+=r\n",
    "        \n",
    "        if done or t>t_max:break\n",
    "            \n",
    "    return total_reward"
   ]
  },
  {
   "cell_type": "code",
   "execution_count": null,
   "metadata": {
    "collapsed": false
   },
   "outputs": [],
   "source": [
    "[generate_session() for _ in range(10)]"
   ]
  },
  {
   "cell_type": "markdown",
   "metadata": {},
   "source": [
    "### Videos"
   ]
  },
  {
   "cell_type": "code",
   "execution_count": 4,
   "metadata": {
    "collapsed": false
   },
   "outputs": [
    {
     "name": "stderr",
     "output_type": "stream",
     "text": [
      "[2017-01-23 05:37:28,806] DEPRECATION WARNING: env.spec.timestep_limit has been deprecated. Replace your call to `env.spec.timestep_limit` with `env.spec.tags.get('wrapper_config.TimeLimit.max_episode_steps')`. This change was made 12/28/2016 and is included in version 0.7.0\n"
     ]
    }
   ],
   "source": [
    "#finish recording\n",
    "env = gym.make(ENV_NAME)\n",
    "env = gym.wrappers.Monitor(env,directory=\"videos\",force=True)\n",
    "sessions = [generate_session() for _ in range(50)]\n",
    "env.close()\n",
    "gym.upload(\"./videos/\",api_key=\"<...>\")"
   ]
  },
  {
   "cell_type": "code",
   "execution_count": 5,
   "metadata": {
    "collapsed": false
   },
   "outputs": [
    {
     "data": {
      "text/html": [
       "\n",
       "<video width=\"640\" height=\"480\" controls>\n",
       "  <source src=\"./videos/openaigym.video.0.24391.video000000.mp4\" type=\"video/mp4\">\n",
       "</video>\n"
      ],
      "text/plain": [
       "<IPython.core.display.HTML object>"
      ]
     },
     "execution_count": 5,
     "metadata": {},
     "output_type": "execute_result"
    }
   ],
   "source": [
    "from IPython.display import HTML\n",
    "import os\n",
    "\n",
    "video_names = list(filter(lambda s:s.endswith(\".mp4\"),os.listdir(\"./videos/\")))\n",
    "\n",
    "HTML(\"\"\"\n",
    "<video width=\"640\" height=\"480\" controls>\n",
    "  <source src=\"{}\" type=\"video/mp4\">\n",
    "</video>\n",
    "\"\"\".format(\"./videos/\"+video_names[-1])) #this may or may not be _last_ video. Try other indices"
   ]
  },
  {
   "cell_type": "code",
   "execution_count": null,
   "metadata": {
    "collapsed": true
   },
   "outputs": [],
   "source": []
  }
 ],
 "metadata": {
  "kernelspec": {
   "display_name": "Python 2",
   "language": "python",
   "name": "python2"
  },
  "language_info": {
   "codemirror_mode": {
    "name": "ipython",
    "version": 2
   },
   "file_extension": ".py",
   "mimetype": "text/x-python",
   "name": "python",
   "nbconvert_exporter": "python",
   "pygments_lexer": "ipython2",
   "version": "2.7.13"
  }
 },
 "nbformat": 4,
 "nbformat_minor": 0
}
